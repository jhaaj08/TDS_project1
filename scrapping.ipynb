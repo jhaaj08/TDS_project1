{
 "cells": [
  {
   "cell_type": "code",
   "execution_count": 62,
   "id": "e7c1cf16-4f75-433c-8f8d-a312e4bc73e9",
   "metadata": {},
   "outputs": [],
   "source": [
    "import requests\n",
    "import pandas as pd\n",
    "\n",
    "# Step 1: Read the GitHub token from the file\n",
    "with open('../github_token.txt', 'r') as file:\n",
    "    github_token = file.read().strip()\n",
    "\n",
    "headers = {'Authorization': f'token {gi}thub_token}'}"
   ]
  },
  {
   "cell_type": "code",
   "execution_count": 63,
   "id": "d706367c-b95d-466c-a0a1-dd32f1a19fad",
   "metadata": {},
   "outputs": [
    {
     "name": "stdout",
     "output_type": "stream",
     "text": [
      "30\n"
     ]
    }
   ],
   "source": [
    "#getting the user data\n",
    "search_url = 'https://api.github.com/search/users?q=location:Sydney+followers:>100'\n",
    "response = requests.get(search_url, headers=headers)\n",
    "\n",
    "# Check if request was successful\n",
    "if response.status_code == 200:\n",
    "    users_data = response.json()\n",
    "    \n",
    "    # Step 3: Initialize an empty list to store user details\n",
    "    users_list = []\n",
    "\n",
    "    # Loop through each user returned by the search\n",
    "    for user in users_data['items']:\n",
    "        user_api_url = user['url']  # Get detailed user API URL\n",
    "        \n",
    "        # Step 4: Request detailed user data using the user's API URL\n",
    "        user_response = requests.get(user_api_url, headers=headers)\n",
    "        \n",
    "        if user_response.status_code == 200:\n",
    "            user_details = user_response.json()\n",
    "\n",
    "            # Extract the necessary information, and apply cleaning as required\n",
    "            user_info = {\n",
    "                'login': user_details.get('login', ''),\n",
    "                'name': user_details.get('name', ''),\n",
    "                'company': user_details.get('company', '').lstrip('@').strip().upper() if user_details.get('company') else '',\n",
    "                'location': user_details.get('location', ''),\n",
    "                'email': user_details.get('email', ''),\n",
    "                'hireable': user_details.get('hireable', False),\n",
    "                'bio': user_details.get('bio', ''),\n",
    "                'public_repos': user_details.get('public_repos', 0),\n",
    "                'followers': user_details.get('followers', 0),\n",
    "                'following': user_details.get('following', 0),\n",
    "                'created_at': user_details.get('created_at', '')\n",
    "            }\n",
    "\n",
    "            # Step 5: Append the cleaned user data to the list\n",
    "            users_list.append(user_info)\n",
    "        \n",
    "        else:\n",
    "            print(f\"Failed to retrieve details for user {user['login']}. Status code: {user_response.status_code}\")\n",
    "\n",
    "    # Step 6: Create a DataFrame and save to CSV\n",
    "    users_df = pd.DataFrame(users_list)\n",
    "    print(len(users_df))\n",
    "    #users_df.to_csv('users.csv', index=False)\n",
    "\n",
    "    #print(\"Data successfully saved to 'users.csv'.\")\n",
    "\n",
    "else:\n",
    "    print(f\"Failed to retrieve users. Status code: {response.status_code}\")"
   ]
  },
  {
   "cell_type": "code",
   "execution_count": 61,
   "id": "8acecb3f-1660-46f2-a262-0e82597b7378",
   "metadata": {},
   "outputs": [
    {
     "name": "stdout",
     "output_type": "stream",
     "text": [
      "completed\n"
     ]
    }
   ],
   "source": [
    "repo_details = []\n",
    "#getting the repo data \n",
    "users = users_data['items']\n",
    "for repos in users:\n",
    "    repo = repos['repos_url']\n",
    "    repo_data = requests.get(repo,headers=headers)\n",
    "    datum = repo_data.json()\n",
    "    for data in datum[:500]:\n",
    "        repo_info = {\n",
    "                'login': data.get('owner', '')['login'],\n",
    "                'name': data.get('full_name', ''),\n",
    "                'created_at': data.get('created_at', ''),\n",
    "                'stargazers_count': data.get('stargazers_count', ''),\n",
    "                'watchers_count': data.get('watchers_count', ''),\n",
    "                'language': data.get('language', ''),\n",
    "                'has_projects': data.get('has_projects', ''),\n",
    "                'has_wiki': data.get('has_wiki', ''),\n",
    "                'license_name': data['license']['name'] if data.get('license') is not None else ''\n",
    "            }\n",
    "        repo_details.append(repo_info)\n",
    "repo_df = pd.DataFrame(repo_details)\n",
    "repo_df.to_csv('repo_df.csv', index=False)\n",
    "print('completed')"
   ]
  },
  {
   "cell_type": "code",
   "execution_count": 54,
   "id": "1bd7de55-fe94-4671-bc6d-97dec1926d17",
   "metadata": {},
   "outputs": [
    {
     "name": "stdout",
     "output_type": "stream",
     "text": [
      "completed\n"
     ]
    }
   ],
   "source": []
  },
  {
   "cell_type": "code",
   "execution_count": null,
   "id": "28f7c2b4-bae8-4109-920d-79d8d303f68e",
   "metadata": {},
   "outputs": [],
   "source": []
  }
 ],
 "metadata": {
  "kernelspec": {
   "display_name": "Python 3 (ipykernel)",
   "language": "python",
   "name": "python3"
  },
  "language_info": {
   "codemirror_mode": {
    "name": "ipython",
    "version": 3
   },
   "file_extension": ".py",
   "mimetype": "text/x-python",
   "name": "python",
   "nbconvert_exporter": "python",
   "pygments_lexer": "ipython3",
   "version": "3.12.4"
  }
 },
 "nbformat": 4,
 "nbformat_minor": 5
}
