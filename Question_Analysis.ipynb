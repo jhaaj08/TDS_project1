{
 "cells": [
  {
   "cell_type": "code",
   "execution_count": 2,
   "id": "73102aae-7bba-466d-8c66-99a7c1fb6d8e",
   "metadata": {},
   "outputs": [],
   "source": [
    "import pandas as pd\n",
    "users_df = pd.read_csv('users.csv')\n",
    "repos_df = pd.read_csv('repositories.csv')"
   ]
  },
  {
   "cell_type": "code",
   "execution_count": 3,
   "id": "b85fab9e-e25e-4f8e-bc9a-9eabba2af442",
   "metadata": {},
   "outputs": [
    {
     "name": "stdout",
     "output_type": "stream",
     "text": [
      "Top 5 users with highest followers: nicknochnack, brendangregg, cornflourblue, 0vm, davecheney\n"
     ]
    }
   ],
   "source": [
    "# 1. Top 5 users in Sydney with the highest number of followers\n",
    "top_5_followers = users_df.nlargest(5, 'followers')['login'].tolist()\n",
    "print('Top 5 users with highest followers:', ', '.join(top_5_followers))"
   ]
  },
  {
   "cell_type": "code",
   "execution_count": 4,
   "id": "e8eecc52-2275-4ddd-822f-73a2b3539395",
   "metadata": {},
   "outputs": [
    {
     "name": "stdout",
     "output_type": "stream",
     "text": [
      "Earliest 5 users: dylanegan, cjheath, freshtonic, dhowden, mikel\n"
     ]
    }
   ],
   "source": [
    "# 2. Earliest 5 users\n",
    "earliest_5_users = users_df.sort_values(by='created_at').head(5)['login'].tolist()\n",
    "print('Earliest 5 users:', ', '.join(earliest_5_users))"
   ]
  },
  {
   "cell_type": "code",
   "execution_count": 5,
   "id": "51d36e9c-e86f-4497-95ce-46340bcacabc",
   "metadata": {},
   "outputs": [
    {
     "name": "stdout",
     "output_type": "stream",
     "text": [
      "Top 3 licenses: mit, other, apache-2.0\n"
     ]
    }
   ],
   "source": [
    "# 3. 3 most popular licenses among users (ignoring missing licenses)\n",
    "licenses_count = repos_df['license_name'].dropna().value_counts().head(3).index.tolist()\n",
    "print('Top 3 licenses:', ', '.join(licenses_count))"
   ]
  },
  {
   "cell_type": "code",
   "execution_count": 6,
   "id": "763e9996-7769-4fb2-b09d-713c1886a1f9",
   "metadata": {},
   "outputs": [
    {
     "name": "stdout",
     "output_type": "stream",
     "text": [
      "Most common company: ATLASSIAN\n"
     ]
    }
   ],
   "source": [
    "# 4. Company where the majority of these developers work\n",
    "most_common_company = users_df['company'].mode()[0] if not users_df['company'].isna().all() else 'None'\n",
    "print('Most common company:', most_common_company)"
   ]
  },
  {
   "cell_type": "code",
   "execution_count": 7,
   "id": "0c730de3-ee85-4da5-ae18-9ffed056fd00",
   "metadata": {},
   "outputs": [
    {
     "name": "stdout",
     "output_type": "stream",
     "text": [
      "Most popular language: JavaScript\n"
     ]
    }
   ],
   "source": [
    "# 5. Most popular programming language\n",
    "most_popular_language = repos_df['language'].mode()[0]\n",
    "print('Most popular language:', most_popular_language)"
   ]
  },
  {
   "cell_type": "code",
   "execution_count": 8,
   "id": "e329180e-9223-4c78-b95f-61e8dbaf2489",
   "metadata": {},
   "outputs": [
    {
     "name": "stdout",
     "output_type": "stream",
     "text": [
      "Second most popular language (after 2020): JavaScript\n"
     ]
    }
   ],
   "source": [
    "# 6. Second most popular language among users who joined after 2020\n",
    "users_after_2020 = users_df[users_df['created_at'] > '2020-01-01']\n",
    "repos_after_2020 = repos_df[repos_df['login'].isin(users_after_2020['login'])]\n",
    "second_popular_language = repos_after_2020['language'].value_counts().index[1]\n",
    "print('Second most popular language (after 2020):', second_popular_language)"
   ]
  },
  {
   "cell_type": "code",
   "execution_count": 9,
   "id": "5857e8d0-938d-4d04-89e7-34c01b0aab3f",
   "metadata": {},
   "outputs": [
    {
     "name": "stdout",
     "output_type": "stream",
     "text": [
      "Language with highest average stars: Mermaid\n"
     ]
    }
   ],
   "source": [
    "# 7. Language with the highest average stars per repository\n",
    "language_stars_avg = repos_df.groupby('language')['stargazers_count'].mean().sort_values(ascending=False)\n",
    "highest_avg_stars_language = language_stars_avg.idxmax()\n",
    "print('Language with highest average stars:', highest_avg_stars_language)"
   ]
  },
  {
   "cell_type": "code",
   "execution_count": 10,
   "id": "91c775b3-1732-4039-90cf-9f74bd47b6cc",
   "metadata": {},
   "outputs": [
    {
     "name": "stdout",
     "output_type": "stream",
     "text": [
      "Top 5 leader strength users: brendangregg, cornflourblue, Canva, nicknochnack, 0vm\n"
     ]
    }
   ],
   "source": [
    "# 8. Top 5 users by leader_strength\n",
    "users_df['leader_strength'] = users_df['followers'] / (1 + users_df['following'])\n",
    "top_5_leader_strength = users_df.nlargest(5, 'leader_strength')['login'].tolist()\n",
    "print('Top 5 leader strength users:', ', '.join(top_5_leader_strength))"
   ]
  },
  {
   "cell_type": "code",
   "execution_count": 11,
   "id": "d1adfe02-78f1-4ff8-866e-af79c437b442",
   "metadata": {},
   "outputs": [
    {
     "name": "stdout",
     "output_type": "stream",
     "text": [
      "Correlation between followers and public repos: 0.033\n"
     ]
    }
   ],
   "source": [
    "# 9. Correlation between followers and public repositories\n",
    "followers_repos_corr = users_df[['followers', 'public_repos']].corr().iloc[0, 1]\n",
    "print('Correlation between followers and public repos:', round(followers_repos_corr, 3))"
   ]
  },
  {
   "cell_type": "code",
   "execution_count": 12,
   "id": "e65815d2-94b6-4b11-af0b-e5487972ae61",
   "metadata": {},
   "outputs": [
    {
     "name": "stdout",
     "output_type": "stream",
     "text": [
      "Followers per repo slope: 0.063\n"
     ]
    }
   ],
   "source": [
    "from sklearn.linear_model import LinearRegression\n",
    "\n",
    "# 10. Regression: additional followers per public repository\n",
    "X_repos = users_df[['public_repos']].values\n",
    "y_followers = users_df['followers'].values\n",
    "reg_model = LinearRegression().fit(X_repos, y_followers)\n",
    "followers_per_repo_slope = reg_model.coef_[0]\n",
    "print('Followers per repo slope:', round(followers_per_repo_slope, 3))"
   ]
  },
  {
   "cell_type": "code",
   "execution_count": 13,
   "id": "d491e9c3-e554-4b3b-931e-6f4071c6eed7",
   "metadata": {},
   "outputs": [
    {
     "name": "stdout",
     "output_type": "stream",
     "text": [
      "Correlation between projects and wiki: 0.262\n"
     ]
    }
   ],
   "source": [
    "# 11. Correlation between having projects and having wiki enabled\n",
    "projects_wiki_corr = repos_df[['has_projects', 'has_wiki']].corr().iloc[0, 1]\n",
    "print('Correlation between projects and wiki:', round(projects_wiki_corr, 3))"
   ]
  },
  {
   "cell_type": "code",
   "execution_count": 14,
   "id": "85edf7c3-e333-485a-9ef1-5ad2aeffb0f6",
   "metadata": {},
   "outputs": [
    {
     "name": "stdout",
     "output_type": "stream",
     "text": [
      "Following difference between hireable and non-hireable: 52.602\n"
     ]
    }
   ],
   "source": [
    "# 12. Difference in average following between hireable and non-hireable users\n",
    "avg_following_hireable = users_df[users_df['hireable'] == True]['following'].mean()\n",
    "avg_following_non_hireable = users_df[users_df['hireable'] == False]['following'].mean()\n",
    "following_diff = avg_following_hireable - avg_following_non_hireable\n",
    "print('Following difference between hireable and non-hireable:', round(following_diff, 3))"
   ]
  },
  {
   "cell_type": "code",
   "execution_count": 15,
   "id": "21985164-7b80-4d9f-b179-72f2f50fb53b",
   "metadata": {},
   "outputs": [
    {
     "name": "stdout",
     "output_type": "stream",
     "text": [
      "Followers per bio word slope: -9.724\n"
     ]
    }
   ],
   "source": [
    "# 13. Regression of followers on bio word count (ignore empty bios)\n",
    "users_df['bio_word_count'] = users_df['bio'].fillna('').apply(lambda x: len(x.split()))\n",
    "users_with_bio = users_df[users_df['bio_word_count'] > 0]\n",
    "X_bio = users_with_bio[['bio_word_count']].values\n",
    "y_bio_followers = users_with_bio['followers'].values\n",
    "bio_reg_model = LinearRegression().fit(X_bio, y_bio_followers)\n",
    "followers_per_bio_word_slope = bio_reg_model.coef_[0]\n",
    "print('Followers per bio word slope:', round(followers_per_bio_word_slope, 3))"
   ]
  },
  {
   "cell_type": "code",
   "execution_count": 16,
   "id": "008eb18b-e7e8-40d7-bdcd-c040adb68a54",
   "metadata": {},
   "outputs": [
    {
     "name": "stdout",
     "output_type": "stream",
     "text": [
      "Top 5 users with most weekend repos: timgates42, pinkforest, mikeyhodl, ozbillwang, XertroV\n"
     ]
    }
   ],
   "source": [
    "# 14. Users with the most repositories created on weekends (UTC)\n",
    "repos_df['created_at'] = pd.to_datetime(repos_df['created_at'])\n",
    "repos_df['created_weekend'] = repos_df['created_at'].dt.weekday >= 5\n",
    "weekend_repos_count = repos_df[repos_df['created_weekend']].groupby('login').size().nlargest(5).index.tolist()\n",
    "print('Top 5 users with most weekend repos:', ', '.join(weekend_repos_count))"
   ]
  },
  {
   "cell_type": "code",
   "execution_count": 17,
   "id": "ac9083b0-6b72-44eb-abc1-ef88c36242ef",
   "metadata": {},
   "outputs": [
    {
     "name": "stdout",
     "output_type": "stream",
     "text": [
      "Email share difference (hireable vs non-hireable): 0.046\n"
     ]
    }
   ],
   "source": [
    "# 15. Fraction of users with email when hireable vs non-hireable\n",
    "hireable_with_email = users_df[users_df['hireable'] == True]['email'].notna().mean()\n",
    "non_hireable_with_email = users_df[users_df['hireable'] == False]['email'].notna().mean()\n",
    "email_fraction_diff = hireable_with_email - non_hireable_with_email\n",
    "print('Email share difference (hireable vs non-hireable):', round(email_fraction_diff, 3))"
   ]
  },
  {
   "cell_type": "code",
   "execution_count": 18,
   "id": "4b31cef2-8cc9-4172-abd8-0ee10a1b489c",
   "metadata": {},
   "outputs": [
    {
     "name": "stdout",
     "output_type": "stream",
     "text": [
      "Most common surname(s): \n"
     ]
    }
   ],
   "source": [
    "# 16. Most common surname (based on the last word in the name)\n",
    "users_df['surname'] = users_df['name'].fillna('').apply(lambda x: x.strip().split()[-1] if x else '')\n",
    "surname_counts = users_df['surname'].value_counts()\n",
    "most_common_surnames = surname_counts[surname_counts == surname_counts.max()].index.tolist()\n",
    "print('Most common surname(s):', ', '.join(sorted(most_common_surnames)))"
   ]
  },
  {
   "cell_type": "code",
   "execution_count": 19,
   "id": "b8273942-381b-460f-b46b-ae4fbede2449",
   "metadata": {},
   "outputs": [
    {
     "name": "stdout",
     "output_type": "stream",
     "text": [
      "Most common surname(s): Wu, Zhang\n"
     ]
    }
   ],
   "source": [
    "# Improved code to find the most common surname\n",
    "import pandas as pd\n",
    "\n",
    "# Load users.csv\n",
    "users_df = pd.read_csv('users.csv')\n",
    "\n",
    "# Clean the 'name' column and extract the surname\n",
    "users_df['name'] = users_df['name'].fillna('').str.strip()  # Remove leading/trailing spaces and handle NaN\n",
    "users_df['surname'] = users_df['name'].apply(lambda x: x.split()[-1] if len(x.split()) > 1 else '')\n",
    "\n",
    "# Filter out rows where surname is still empty\n",
    "users_with_surnames = users_df[users_df['surname'] != '']\n",
    "\n",
    "# Get the most common surname(s)\n",
    "surname_counts = users_with_surnames['surname'].value_counts()\n",
    "most_common_surnames = surname_counts[surname_counts == surname_counts.max()].index.tolist()\n",
    "\n",
    "# Output the result\n",
    "print('Most common surname(s):', ', '.join(sorted(most_common_surnames)))"
   ]
  },
  {
   "cell_type": "code",
   "execution_count": null,
   "id": "fca38404-8307-4385-bef2-cb12ed467181",
   "metadata": {},
   "outputs": [],
   "source": []
  }
 ],
 "metadata": {
  "kernelspec": {
   "display_name": "Python 3 (ipykernel)",
   "language": "python",
   "name": "python3"
  },
  "language_info": {
   "codemirror_mode": {
    "name": "ipython",
    "version": 3
   },
   "file_extension": ".py",
   "mimetype": "text/x-python",
   "name": "python",
   "nbconvert_exporter": "python",
   "pygments_lexer": "ipython3",
   "version": "3.12.4"
  }
 },
 "nbformat": 4,
 "nbformat_minor": 5
}
